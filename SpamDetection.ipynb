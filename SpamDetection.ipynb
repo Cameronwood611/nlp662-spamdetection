{
 "cells": [
  {
   "cell_type": "markdown",
   "metadata": {},
   "source": [
    "# Spam Detection - NLP 662\n",
    "\n",
    "### by Cameron Wood and Tom el Safadi\n",
    "\n",
    "- This project is a spam detection model that leverages a bidirectional LSTM to output a binary classification for either 1 - spam, or 0 - not spam (called \"ham\"). The binary classification is a softmax layer but we use ReLU in order to handle the vanishing gradient problem.\n",
    "\n",
    "- We'll leverage the keras Tokenizer for handling our vocabulary and unique tokens internally. Then, we pad the tokens so that they are all the same length and normalized. This will be fed into an Embedding layer to vectorize our tokens before we finally begin training."
   ]
  },
  {
   "cell_type": "code",
   "execution_count": 82,
   "metadata": {},
   "outputs": [],
   "source": [
    "\n",
    "import os\n",
    "import sys\n",
    "import re\n",
    "import glob\n",
    "import email\n",
    "import string\n",
    "\n",
    "\n",
    "import numpy as np\n",
    "import tensorflow as tf\n",
    "from matplotlib import pyplot as plt\n",
    "from sklearn.metrics import plot_confusion_matrix\n",
    "from sklearn.metrics import f1_score, recall_score, precision_score, confusion_matrix\n",
    "from sklearn.model_selection import train_test_split\n",
    "from keras.preprocessing.text import Tokenizer\n",
    "from keras.preprocessing.sequence import pad_sequences\n",
    "from keras.layers import Dense, Input, LSTM, Embedding, Dropout, Activation\n",
    "from keras.layers import Bidirectional\n",
    "from keras.models import Model, load_model\n",
    "\n"
   ]
  },
  {
   "cell_type": "markdown",
   "metadata": {},
   "source": [
    "# Download and unpack datasets\n",
    "\n",
    " - All of our datasets came from https://spamassassin.apache.org/old/publiccorpus/. Please run the below cell in order to download, unpack and move files to the appropriate directory before continuing."
   ]
  },
  {
   "cell_type": "code",
   "execution_count": 68,
   "metadata": {},
   "outputs": [
    {
     "name": "stdout",
     "output_type": "stream",
     "text": [
      "--2021-11-29 23:12:20--  https://spamassassin.apache.org/old/publiccorpus/20030228_easy_ham.tar.bz2\n",
      "Resolving spamassassin.apache.org (spamassassin.apache.org)... 151.101.2.132, 2a04:4e42::644\n",
      "Connecting to spamassassin.apache.org (spamassassin.apache.org)|151.101.2.132|:443... connected.\n",
      "HTTP request sent, awaiting response... 200 OK\n",
      "Length: 1612216 (1.5M) [application/x-bzip2]\n",
      "Saving to: ‘20030228_easy_ham.tar.bz2’\n",
      "\n",
      "100%[======================================>] 1,612,216   --.-K/s   in 0.1s    \n",
      "\n",
      "2021-11-29 23:12:20 (15.4 MB/s) - ‘20030228_easy_ham.tar.bz2’ saved [1612216/1612216]\n",
      "\n",
      "--2021-11-29 23:12:20--  https://spamassassin.apache.org/old/publiccorpus/20030228_easy_ham_2.tar.bz2\n",
      "Resolving spamassassin.apache.org (spamassassin.apache.org)... 151.101.2.132, 2a04:4e42::644\n",
      "Connecting to spamassassin.apache.org (spamassassin.apache.org)|151.101.2.132|:443... connected.\n",
      "HTTP request sent, awaiting response... 200 OK\n",
      "Length: 1077892 (1.0M) [application/x-bzip2]\n",
      "Saving to: ‘20030228_easy_ham_2.tar.bz2’\n",
      "\n",
      "100%[======================================>] 1,077,892   --.-K/s   in 0.09s   \n",
      "\n",
      "2021-11-29 23:12:21 (11.9 MB/s) - ‘20030228_easy_ham_2.tar.bz2’ saved [1077892/1077892]\n",
      "\n",
      "--2021-11-29 23:12:21--  https://spamassassin.apache.org/old/publiccorpus/20030228_spam.tar.bz2\n",
      "Resolving spamassassin.apache.org (spamassassin.apache.org)... 151.101.2.132, 2a04:4e42::644\n",
      "Connecting to spamassassin.apache.org (spamassassin.apache.org)|151.101.2.132|:443... connected.\n",
      "HTTP request sent, awaiting response... 200 OK\n",
      "Length: 1183768 (1.1M) [application/x-bzip2]\n",
      "Saving to: ‘20030228_spam.tar.bz2’\n",
      "\n",
      "100%[======================================>] 1,183,768   --.-K/s   in 0.07s   \n",
      "\n",
      "2021-11-29 23:12:22 (15.1 MB/s) - ‘20030228_spam.tar.bz2’ saved [1183768/1183768]\n",
      "\n",
      "--2021-11-29 23:12:22--  https://spamassassin.apache.org/old/publiccorpus/20050311_spam_2.tar.bz2\n",
      "Resolving spamassassin.apache.org (spamassassin.apache.org)... 151.101.2.132, 2a04:4e42::644\n",
      "Connecting to spamassassin.apache.org (spamassassin.apache.org)|151.101.2.132|:443... connected.\n",
      "HTTP request sent, awaiting response... 200 OK\n",
      "Length: 2059029 (2.0M) [application/x-bzip2]\n",
      "Saving to: ‘20050311_spam_2.tar.bz2’\n",
      "\n",
      "100%[======================================>] 2,059,029   --.-K/s   in 0.1s    \n",
      "\n",
      "2021-11-29 23:12:22 (19.3 MB/s) - ‘20050311_spam_2.tar.bz2’ saved [2059029/2059029]\n",
      "\n",
      "--2021-11-29 23:12:23--  https://spamassassin.apache.org/old/publiccorpus/20030228_hard_ham.tar.bz2\n",
      "Resolving spamassassin.apache.org (spamassassin.apache.org)... 151.101.2.132, 2a04:4e42::644\n",
      "Connecting to spamassassin.apache.org (spamassassin.apache.org)|151.101.2.132|:443... connected.\n",
      "HTTP request sent, awaiting response... 200 OK\n",
      "Length: 1029898 (1006K) [application/x-bzip2]\n",
      "Saving to: ‘20030228_hard_ham.tar.bz2’\n",
      "\n",
      "100%[======================================>] 1,029,898   --.-K/s   in 0.08s   \n",
      "\n",
      "2021-11-29 23:12:23 (11.7 MB/s) - ‘20030228_hard_ham.tar.bz2’ saved [1029898/1029898]\n",
      "\n",
      "Done\n"
     ]
    }
   ],
   "source": [
    "!rm -rf spam_data\n",
    "!mkdir -p spam_data\n",
    "\n",
    "!wget https://spamassassin.apache.org/old/publiccorpus/20030228_easy_ham.tar.bz2\n",
    "!wget https://spamassassin.apache.org/old/publiccorpus/20030228_easy_ham_2.tar.bz2\n",
    "!wget https://spamassassin.apache.org/old/publiccorpus/20030228_spam.tar.bz2\n",
    "!wget https://spamassassin.apache.org/old/publiccorpus/20050311_spam_2.tar.bz2\n",
    "!wget https://spamassassin.apache.org/old/publiccorpus/20030228_hard_ham.tar.bz2\n",
    "    \n",
    "!tar xvjf 20030228_easy_ham_2.tar.bz2 > /dev/null  # I don't care about seeing this output\n",
    "!tar xvjf 20030228_easy_ham.tar.bz2 > /dev/null  # I don't care about seeing this output\n",
    "!tar xvjf 20030228_hard_ham.tar.bz2 > /dev/null  # I don't care about seeing this output\n",
    "!tar xvjf 20030228_spam.tar.bz2 > /dev/null  # I don't care about seeing this output\n",
    "!tar xvjf 20050311_spam_2.tar.bz2 > /dev/null  # I don't care about seeing this output\n",
    "\n",
    "!rm 20030228_easy_ham.tar.bz2\n",
    "!rm 20030228_easy_ham_2.tar.bz2\n",
    "!rm 20030228_hard_ham.tar.bz2\n",
    "!rm 20030228_spam.tar.bz2\n",
    "!rm 20050311_spam_2.tar.bz2\n",
    "\n",
    "!mv easy_ham spam_data\n",
    "!mv easy_ham_2 spam_data\n",
    "!mv hard_ham spam_data\n",
    "!mv spam spam_data\n",
    "!mv spam_2 spam_data\n",
    "\n",
    "print(\"Done\")"
   ]
  },
  {
   "cell_type": "markdown",
   "metadata": {},
   "source": [
    "# Functions to read and prepare data\n",
    "\n",
    "- `all_datasets_exist()` checks that the files are downloaded and unpacked. Run above cell if not.\n",
    "- `read_email()` reads the raw content of an email given its file path.\n",
    "- `get_email_content()` is a wrapper that uses read_email on all emails.\n",
    "- `remove_null()` is used to remove an email object that has no content. This is done after reading all the emails because we need to remove the given y label associated with it.\n",
    "- `prepare_datasets()` is the beginning of the pipeline before we start cleaning/tokenizing/padding. This function will leverage all of the functions mentioned above."
   ]
  },
  {
   "cell_type": "code",
   "execution_count": 69,
   "metadata": {},
   "outputs": [
    {
     "name": "stdout",
     "output_type": "stream",
     "text": [
      "Training/test datasets are loaded and ready!\n"
     ]
    }
   ],
   "source": [
    "def all_datasets_exist() -> bool:\n",
    "    \"\"\"\n",
    "\n",
    "    Function that checks for all the expected spam datasets to be unpacked.\n",
    "\n",
    "    Params:\n",
    "        - None\n",
    "\n",
    "    Returns:\n",
    "        - True or False\n",
    "\n",
    "    \"\"\"\n",
    "\n",
    "    expected_dirs = [\"easy_ham\", \"easy_ham_2\", \"hard_ham\", \"spam\", \"spam_2\"]\n",
    "    folder = \"./spam_data/\"\n",
    "\n",
    "    for dir_name in expected_dirs:\n",
    "        path = folder + dir_name\n",
    "        if not os.path.exists(path):\n",
    "            return False\n",
    "    return True\n",
    "\n",
    "def read_email(path):\n",
    "    \"\"\"\n",
    "    Raed the raw content from an email.\n",
    "\n",
    "    Params:\n",
    "     - path (str): the file path for the email to read.\n",
    "    \n",
    "    Returns:\n",
    "     - content (str): raw content of an email.\n",
    "    \"\"\"\n",
    "    file = open(path, encoding=\"latin1\")\n",
    "    try:\n",
    "        msg = email.message_from_file(file)\n",
    "        for part in msg.walk():\n",
    "            if part.get_content_type() == \"text/plain\":\n",
    "                return part.get_payload()  # raw text\n",
    "    except Exception as e:\n",
    "        print(e)\n",
    "    \n",
    "\n",
    "def get_email_content(email_paths):\n",
    "    \"\"\"\n",
    "    Wrapper for aggregating email content on all files.\n",
    "\n",
    "    Params:\n",
    "     - email_paths (list): list of email paths to read.\n",
    "\n",
    "    Returns:\n",
    "     - content (list): list of email content. \n",
    "    \"\"\"\n",
    "    content = [read_email(path) for path in email_paths]\n",
    "    return content\n",
    "\n",
    "\n",
    "def remove_null(datasets, labels):\n",
    "    \"\"\"\n",
    "    Sometimes email content is empty when we receive it. We can't remove it as we\n",
    "    read the email becuase we have a matching y_label unpacked already and we need\n",
    "    to remove them at the same time.\n",
    "\n",
    "    Params:\n",
    "     - datasets (list): Raw emails to be evaluated.\n",
    "     - labels: (list): 1/0 y_label of the emails from dataset.\n",
    "    \n",
    "    Returns:\n",
    "     - (datasets, labels): removed of any null content\n",
    "    \"\"\"\n",
    "    not_null_idx = [i for i, o in enumerate(datasets) if o is not None]\n",
    "    return np.array(datasets)[not_null_idx], np.array(labels)[not_null_idx]\n",
    "\n",
    "\n",
    "def prepare_datasets():\n",
    "    \"\"\"\n",
    "    Start of the SpamDetection pipeline which involves actually unpacking and splitting\n",
    "    the datasets into train and test data. You'll need to make sure to unpack the tar files\n",
    "    inside the spam_data directory (see the function `all_datasets_exist` for more detail).\n",
    "\n",
    "    Params:\n",
    "     - None\n",
    "\n",
    "     Returns:\n",
    "     - 4-tuple of train/test datasets with y labels.\n",
    "    \"\"\"\n",
    "    \n",
    "    if not all_datasets_exist():\n",
    "        print(\"Please run the above cell.\")\n",
    "    print(\"Training/test datasets are loaded and ready!\")\n",
    "\n",
    "    # gather all file names unpacked\n",
    "    path = \"./spam_data/\"\n",
    "    ham_files = [\n",
    "        glob.glob(path + \"easy_ham/*\"),\n",
    "        glob.glob(path + \"easy_ham_2/*\"),\n",
    "        glob.glob(path + \"hard_ham/*\"),\n",
    "    ]\n",
    "    spam_files = [glob.glob(path + \"spam/*\"), glob.glob(path + \"spam_2/*\")]\n",
    "\n",
    "    ham_sample = np.array([train_test_split(o) for o in ham_files], dtype=object)\n",
    "\n",
    "    ham_train = np.array([])\n",
    "    ham_test = np.array([])\n",
    "    for o in ham_sample:\n",
    "        ham_train = np.concatenate((ham_train, o[0]), axis=0)\n",
    "        ham_test = np.concatenate((ham_test, o[1]), axis=0)\n",
    "\n",
    "    spam_sample = np.array([train_test_split(o) for o in spam_files], dtype=object)\n",
    "\n",
    "    spam_train = np.array([])\n",
    "    spam_test = np.array([])\n",
    "    for o in spam_sample:\n",
    "        spam_train = np.concatenate((spam_train, o[0]), axis=0)\n",
    "        spam_test = np.concatenate((spam_test, o[1]), axis=0)\n",
    "\n",
    "    # attach labels to data (0 - ham, 1 - spam)\n",
    "    ham_train_label = [0] * ham_train.shape[0]  # type: ignore\n",
    "    spam_train_label = [1] * spam_train.shape[0]  # type: ignore\n",
    "    ham_test_label = [0] * ham_test.shape[0]  # type: ignore\n",
    "    spam_test_label = [1] * spam_test.shape[0]  # type: ignore\n",
    "\n",
    "    x_test = np.concatenate((ham_test, spam_test))\n",
    "    y_test = np.concatenate((ham_test_label, spam_test_label))\n",
    "    x_train = np.concatenate((ham_train, spam_train))\n",
    "    y_train = np.concatenate((ham_train_label, spam_train_label))\n",
    "\n",
    "    # shuffle\n",
    "    train_shuffle_index = np.random.permutation(np.arange(0, x_train.shape[0]))  # type: ignore\n",
    "    test_shuffle_index = np.random.permutation(np.arange(0, x_test.shape[0]))  # type:ignore\n",
    "\n",
    "    x_train = x_train[train_shuffle_index]\n",
    "    y_train = y_train[train_shuffle_index]\n",
    "\n",
    "    x_test = x_test[test_shuffle_index]\n",
    "    y_test = y_test[test_shuffle_index]\n",
    "\n",
    "    # email content for training\n",
    "    x_train = get_email_content(x_train)\n",
    "    x_test = get_email_content(x_test)\n",
    "\n",
    "    x_train, y_train = remove_null(x_train, y_train)\n",
    "    x_test, y_test = remove_null(x_test, y_test)\n",
    "\n",
    "    return x_train, y_train, x_test, y_test\n",
    "\n",
    "\n",
    "x_train, y_train, x_test, y_test = prepare_datasets()"
   ]
  },
  {
   "cell_type": "markdown",
   "metadata": {},
   "source": [
    "# Cleaning, Tokenizing and Padding data"
   ]
  },
  {
   "cell_type": "code",
   "execution_count": 70,
   "metadata": {},
   "outputs": [],
   "source": [
    "def preprocess_clean(data):\n",
    "    \"\"\"\n",
    "    Do some preprocess cleaning with the data from emails. We want to do some\n",
    "    normalization so there is no bias for certain anomalies within the data.\n",
    "\n",
    "    Params:\n",
    "     - data (str): The raw content of an email\n",
    "\n",
    "    Returns:\n",
    "     - data (str): normalized and clean data\n",
    "    \"\"\"\n",
    "\n",
    "    data = data.replace(\"\\n\", \"\").lower().strip()\n",
    "    data = re.sub(r\"http\\S+\", \"\", data)  # no hyperlink\n",
    "    data = re.sub(r'\\d+', '', data) # no numbers\n",
    "    data = data.translate(str.maketrans(dict.fromkeys(string.punctuation)))\n",
    "    return data\n",
    "\n",
    "\n",
    "def tokenize_and_pad(x_train, x_test):\n",
    "    \n",
    "    \"\"\"\n",
    "    Use Keras tokenizer on train and test datasets. Pad these tokens so \n",
    "    that all are the same length before turning them into vectors.\n",
    "    \n",
    "    Params:\n",
    "     - x_train (List[str]): Cleaned emails for training\n",
    "     - x_test (List[str]): Cleaned emails for testing\n",
    "     \n",
    "    Returns:\n",
    "     - Train and Test padded sequences\n",
    "        \n",
    "    \"\"\"\n",
    "    \n",
    "    vocab_size = 50000\n",
    "    max_words = 2000\n",
    "\n",
    "    tokenizer = Tokenizer(num_words=vocab_size)\n",
    "    tokenizer.fit_on_texts(x_train)\n",
    "\n",
    "    x_train_features = pad_sequences(\n",
    "        np.array(tokenizer.texts_to_sequences(x_train), dtype=object),  # basically one-hot-encoding\n",
    "        maxlen=max_words\n",
    "    )\n",
    "    x_test_features = pad_sequences(\n",
    "        np.array(tokenizer.texts_to_sequences(x_test), dtype=object), # basically one-hot-encoding\n",
    "        maxlen=max_words\n",
    "    )\n",
    "\n",
    "    return x_train_features, x_test_features\n"
   ]
  },
  {
   "cell_type": "markdown",
   "metadata": {},
   "source": [
    "# Build the model\n",
    " - This is a bidirectional LSTM to output a binary classification for either 1 - spam, or 0 - not spam (called \"ham\"). The binary classification is a softmax layer but we use ReLU in order to handle the vanishing gradient problem. We'll use adam optimizer for our gradient descent and cross entropy as our loss function."
   ]
  },
  {
   "cell_type": "code",
   "execution_count": 71,
   "metadata": {
    "scrolled": true
   },
   "outputs": [],
   "source": [
    "def create_model():\n",
    "   \n",
    "    input_dim = 50000  # size of vocab\n",
    "    output_dim = 32  # embeddin dim\n",
    "    input_length=2000  # num of words, need this for dense layers\n",
    "\n",
    "    model = tf.keras.Sequential()\n",
    "    model.add(Embedding(input_dim, output_dim, input_length=input_length))  # output shape is (None, 2000, 32)\n",
    "    \n",
    "    model.add(Bidirectional(LSTM(64))) # dimension is 128; 64 for forward and 64 for backwards input\n",
    "    model.add(Dense(16, activation='relu'))  # output dim is 16, relu for vanishing gradient\n",
    "    model.add(Dropout(0.09))  # prevent overfitting\n",
    "    model.add(Dense(1, activation='sigmoid')) # need binary classification as final output\n",
    "    model.compile(loss='mean_squared_error', optimizer='adam', metrics=['accuracy'])\n",
    "    \n",
    "    return model\n"
   ]
  },
  {
   "cell_type": "markdown",
   "metadata": {},
   "source": [
    "# Train the model"
   ]
  },
  {
   "cell_type": "code",
   "execution_count": 72,
   "metadata": {},
   "outputs": [],
   "source": [
    "def train_model(model):\n",
    "\n",
    "    history = model.fit(\n",
    "        x_train_features,\n",
    "        y_train,\n",
    "        batch_size=512,\n",
    "        epochs=20,\n",
    "        validation_data=(x_test_features, y_test)\n",
    "    )\n",
    "    print(\"Finished training!\")\n",
    "\n"
   ]
  },
  {
   "cell_type": "markdown",
   "metadata": {},
   "source": [
    "# Matplot of accuracy"
   ]
  },
  {
   "cell_type": "code",
   "execution_count": 73,
   "metadata": {},
   "outputs": [],
   "source": [
    "def print_accuracy(history):\n",
    "    plt.plot(history.history['accuracy'])\n",
    "    plt.plot(history.history['val_accuracy'])\n",
    "    plt.title('model accuracy')\n",
    "    plt.ylabel('accuracy')\n",
    "    plt.xlabel('epoch')\n",
    "    plt.legend(['train', 'test'], loc='upper left')\n",
    "    plt.grid()\n",
    "    plt.show()"
   ]
  },
  {
   "cell_type": "markdown",
   "metadata": {},
   "source": [
    "# Confusion Matrix Heatmap"
   ]
  },
  {
   "cell_type": "code",
   "execution_count": 74,
   "metadata": {},
   "outputs": [],
   "source": [
    "\n",
    "# https://scikit-learn.org/stable/modules/generated/sklearn.metrics.plot_confusion_matrix.html\n",
    "\n",
    "def print_confusion_matrix(x_test, y_pred):\n",
    "    IC = type('IdentityClassifier', (), {\"predict\": lambda i : i, \"_estimator_type\": \"classifier\"})  # dummy estimator\n",
    "    plot_confusion_matrix(IC, y_pred, x_test, display_labels=[\"SPAM\", \"HAM\"])\n",
    "    plt.show()"
   ]
  },
  {
   "cell_type": "code",
   "execution_count": 75,
   "metadata": {},
   "outputs": [],
   "source": [
    "def print_scores(x_test, y_pred):\n",
    "    ps = precision_score(x_test, y_pred) * 100\n",
    "    rs = recall_score(x_test, y_pred) * 100\n",
    "    f1 = f1_score(x_test,y_pred) * 100\n",
    "    \n",
    "    print(\"\\n\\n\")\n",
    "    print(f\"Precision: {ps:.2f}%\")\n",
    "    print(f\"Recall: {rs:.2f}%\")\n",
    "    print(f\"F1 Score: {f1:.2f}%\")"
   ]
  },
  {
   "cell_type": "markdown",
   "metadata": {},
   "source": [
    "# Save model for webapp"
   ]
  },
  {
   "cell_type": "code",
   "execution_count": 76,
   "metadata": {},
   "outputs": [],
   "source": [
    "def save_model(model, path):\n",
    "    model.save(path)\n"
   ]
  },
  {
   "cell_type": "markdown",
   "metadata": {},
   "source": [
    "# Entrypoint of code\n",
    " - This is where the code starts and will execute the functions above.\n",
    " - It will train, analyze and save the model."
   ]
  },
  {
   "cell_type": "code",
   "execution_count": 86,
   "metadata": {},
   "outputs": [
    {
     "name": "stdout",
     "output_type": "stream",
     "text": [
      "Training/test datasets are loaded and ready!\n",
      "(1292, 2000)\n",
      "Epoch 1/20\n",
      "8/8 [==============================] - 47s 6s/step - loss: 0.2449 - accuracy: 0.7413 - val_loss: 0.2359 - val_accuracy: 0.7833\n",
      "Epoch 2/20\n",
      "8/8 [==============================] - 44s 6s/step - loss: 0.2173 - accuracy: 0.7978 - val_loss: 0.1739 - val_accuracy: 0.7833\n",
      "Epoch 3/20\n",
      "8/8 [==============================] - 44s 6s/step - loss: 0.1639 - accuracy: 0.7978 - val_loss: 0.1700 - val_accuracy: 0.7833\n",
      "Epoch 4/20\n",
      "8/8 [==============================] - 44s 5s/step - loss: 0.1634 - accuracy: 0.7968 - val_loss: 0.1651 - val_accuracy: 0.7833\n",
      "Epoch 5/20\n",
      "8/8 [==============================] - 45s 6s/step - loss: 0.1557 - accuracy: 0.7978 - val_loss: 0.1572 - val_accuracy: 0.7833\n",
      "Epoch 6/20\n",
      "8/8 [==============================] - 45s 6s/step - loss: 0.1361 - accuracy: 0.7986 - val_loss: 0.1050 - val_accuracy: 0.8057\n",
      "Epoch 7/20\n",
      "8/8 [==============================] - 45s 6s/step - loss: 0.0706 - accuracy: 0.9181 - val_loss: 0.0497 - val_accuracy: 0.9450\n",
      "Epoch 8/20\n",
      "8/8 [==============================] - 45s 6s/step - loss: 0.0434 - accuracy: 0.9495 - val_loss: 0.0362 - val_accuracy: 0.9574\n",
      "Epoch 9/20\n",
      "8/8 [==============================] - 44s 6s/step - loss: 0.0524 - accuracy: 0.9339 - val_loss: 0.0417 - val_accuracy: 0.9543\n",
      "Epoch 10/20\n",
      "8/8 [==============================] - 44s 6s/step - loss: 0.0320 - accuracy: 0.9725 - val_loss: 0.0283 - val_accuracy: 0.9675\n",
      "Epoch 11/20\n",
      "8/8 [==============================] - 45s 6s/step - loss: 0.0220 - accuracy: 0.9754 - val_loss: 0.0329 - val_accuracy: 0.9613\n",
      "Epoch 12/20\n",
      "8/8 [==============================] - 44s 5s/step - loss: 0.0184 - accuracy: 0.9797 - val_loss: 0.0258 - val_accuracy: 0.9698\n",
      "Epoch 13/20\n",
      "8/8 [==============================] - 44s 6s/step - loss: 0.0138 - accuracy: 0.9839 - val_loss: 0.0189 - val_accuracy: 0.9737\n",
      "Epoch 14/20\n",
      "8/8 [==============================] - 45s 6s/step - loss: 0.0114 - accuracy: 0.9902 - val_loss: 0.0176 - val_accuracy: 0.9776\n",
      "Epoch 15/20\n",
      "8/8 [==============================] - 45s 6s/step - loss: 0.0094 - accuracy: 0.9878 - val_loss: 0.0159 - val_accuracy: 0.9822\n",
      "Epoch 16/20\n",
      "8/8 [==============================] - 44s 5s/step - loss: 0.0066 - accuracy: 0.9945 - val_loss: 0.0159 - val_accuracy: 0.9814\n",
      "Epoch 17/20\n",
      "8/8 [==============================] - 44s 6s/step - loss: 0.0054 - accuracy: 0.9939 - val_loss: 0.0171 - val_accuracy: 0.9783\n",
      "Epoch 18/20\n",
      "8/8 [==============================] - 44s 6s/step - loss: 0.0041 - accuracy: 0.9960 - val_loss: 0.0169 - val_accuracy: 0.9799\n",
      "Epoch 19/20\n",
      "8/8 [==============================] - 45s 6s/step - loss: 0.0031 - accuracy: 0.9976 - val_loss: 0.0176 - val_accuracy: 0.9799\n",
      "Epoch 20/20\n",
      "8/8 [==============================] - 44s 6s/step - loss: 0.0026 - accuracy: 0.9984 - val_loss: 0.0170 - val_accuracy: 0.9799\n",
      "\n",
      "\n",
      "\n",
      "Precision: 98.47%\n",
      "Recall: 92.14%\n",
      "F1 Score: 95.20%\n"
     ]
    },
    {
     "data": {
      "image/png": "[encoded data removed]",
      "text/plain": [
       "<Figure size 432x288 with 1 Axes>"
      ]
     },
     "metadata": {
      "needs_background": "light"
     },
     "output_type": "display_data"
    },
    {
     "data": {
      "image/png": "[encoded data removed]",
      "text/plain": [
       "<Figure size 432x288 with 2 Axes>"
      ]
     },
     "metadata": {
      "needs_background": "light"
     },
     "output_type": "display_data"
    },
    {
     "name": "stderr",
     "output_type": "stream",
     "text": [
      "WARNING:absl:Found untraced functions such as embedding_24_layer_call_fn, embedding_24_layer_call_and_return_conditional_losses, dense_48_layer_call_fn, dense_48_layer_call_and_return_conditional_losses, dropout_24_layer_call_fn while saving (showing 5 of 30). These functions will not be directly callable after loading.\n"
     ]
    },
    {
     "name": "stdout",
     "output_type": "stream",
     "text": [
      "INFO:tensorflow:Assets written to: spam_detector_model/assets\n"
     ]
    },
    {
     "name": "stderr",
     "output_type": "stream",
     "text": [
      "INFO:tensorflow:Assets written to: spam_detector_model/assets\n"
     ]
    },
    {
     "name": "stdout",
     "output_type": "stream",
     "text": [
      "(1, 2000)\n",
      "[[0.06542531]]\n"
     ]
    }
   ],
   "source": [
    "def main():\n",
    "    x_train, y_train, x_test, y_test = prepare_datasets()\n",
    "    x_train = [preprocess_clean(data) for data in x_train]\n",
    "    x_test = [preprocess_clean(data) for data in x_test]\n",
    "    \n",
    "\n",
    "    train_features, test_features = tokenize_and_pad(x_train, x_test)\n",
    "    print(test_features.shape)\n",
    "\n",
    "    model = create_model()\n",
    "    \n",
    "    history = model.fit(\n",
    "        train_features, y_train, batch_size=512, epochs=20, validation_data=(test_features, y_test))\n",
    "    \n",
    "    y_pred  = [1 if prediction > 0.5 else 0 for prediction in model.predict(test_features)]\n",
    "    \n",
    "    print_scores(y_test, y_pred)\n",
    "    print_accuracy(history)\n",
    "    print_confusion_matrix(y_test, y_pred)\n",
    "    \n",
    "    \n",
    "    save_model(model, \"spam_detector_model\")\n",
    "    \n",
    "    vocab_size = 50000\n",
    "    max_words = 2000\n",
    "    x_new = [\"some random sentence that really should not be classified as spam but well see\"]\n",
    "    tokenizer = Tokenizer(num_words=vocab_size)\n",
    "    tokenizer.fit_on_texts(x_new)\n",
    "\n",
    "    new_features = pad_sequences(\n",
    "        np.array(tokenizer.texts_to_sequences(x_new), dtype=object),  # basically one-hot-encoding\n",
    "        maxlen=max_words\n",
    "    )\n",
    "    print(new_features.shape)\n",
    "    \n",
    "    m = load_model(\"spam_detector_model\")\n",
    "    print(m.predict(new_features))\n",
    "    \n",
    "main()"
   ]
  },
  {
   "cell_type": "code",
   "execution_count": null,
   "metadata": {},
   "outputs": [],
   "source": []
  }
 ],
 "metadata": {
  "kernelspec": {
   "display_name": "Python [conda env:nlp2021]",
   "language": "python",
   "name": "conda-env-nlp2021-py"
  },
  "language_info": {
   "codemirror_mode": {
    "name": "ipython",
    "version": 3
   },
   "file_extension": ".py",
   "mimetype": "text/x-python",
   "name": "python",
   "nbconvert_exporter": "python",
   "pygments_lexer": "ipython3",
   "version": "3.8.10"
  }
 },
 "nbformat": 4,
 "nbformat_minor": 4
}
